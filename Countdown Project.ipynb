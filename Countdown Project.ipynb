{
 "cells": [
  {
   "cell_type": "code",
   "execution_count": null,
   "id": "408a3c4d",
   "metadata": {},
   "outputs": [],
   "source": [
    "Objective\n",
    "\n",
    "In this project, you will be able to create a countdown timer using Python. \n",
    "The code will take input from the user regarding the length of the countdown in seconds. \n",
    "After that, a countdown will begin on the screen of the format ‘minutes: seconds. We will use the time module here.\n",
    "\n",
    "Instructions\n",
    "In this project, we will be using the time module and its sleep() function. Follow the below steps to create a countdown timer:\n",
    "\n",
    "Import the time module.\n",
    "Ask the user to input the length of the countdown in seconds.\n",
    "This value is sent as a parameter ‘t’ to the user-defined function countdown(). Any variable read using the input function is a string. So, convert this parameter to ‘int’ as it is of string type.\n",
    "In this function, a while loop runs until time becomes 0.\n",
    "Use divmod() to calculate the number of minutes and seconds. You can read more about it here.\n",
    "Now print the minutes and seconds on the screen using the variable timeformat.\n",
    "Using end = ‘\\r’ we force the cursor to go back to the start of the screen (carriage return) so that the next line printed will overwrite the previous one.\n",
    "The time.sleep() is used to make the code wait for one sec.\n",
    "Now decrement time so that the while loop can converge.\n",
    "After the completion of the loop, we will print “Fire in the hole” to signify the end of the countdown."
   ]
  },
  {
   "cell_type": "code",
   "execution_count": 40,
   "id": "f2908e84",
   "metadata": {},
   "outputs": [
    {
     "name": "stdout",
     "output_type": "stream",
     "text": [
      "Enter duration in seconds: 79\n",
      "Fire in the hole!!\n"
     ]
    }
   ],
   "source": [
    "import time\n",
    "def countdown(t):\n",
    "    \n",
    "    while t>0:\n",
    "        mins, secs = divmod(t, 60)\n",
    "        timeformat = '{:02}:{:02}'.format(mins, secs)\n",
    "        print(timeformat, end=\"\\r\")\n",
    "        time.sleep(1) #the time.sleep function is used in this function to add an interval of 1 second before the next iteration is executed in the loop.\n",
    "        t -= 1\n",
    "        \n",
    "    print('Fire in the hole!!')\n",
    "    \n",
    "t = int(input(\"Enter duration in seconds: \"))\n",
    "countdown(int(t))"
   ]
  },
  {
   "cell_type": "markdown",
   "id": "66c8b3a3",
   "metadata": {},
   "source": [
    " "
   ]
  }
 ],
 "metadata": {
  "kernelspec": {
   "display_name": "Python 3 (ipykernel)",
   "language": "python",
   "name": "python3"
  },
  "language_info": {
   "codemirror_mode": {
    "name": "ipython",
    "version": 3
   },
   "file_extension": ".py",
   "mimetype": "text/x-python",
   "name": "python",
   "nbconvert_exporter": "python",
   "pygments_lexer": "ipython3",
   "version": "3.9.7"
  }
 },
 "nbformat": 4,
 "nbformat_minor": 5
}
